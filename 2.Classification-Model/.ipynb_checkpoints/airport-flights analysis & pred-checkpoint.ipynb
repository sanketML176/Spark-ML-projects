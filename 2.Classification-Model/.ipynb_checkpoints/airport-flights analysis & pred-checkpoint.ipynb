{
 "cells": [
  {
   "cell_type": "code",
   "execution_count": 65,
   "metadata": {},
   "outputs": [],
   "source": [
    "import numpy as np\n",
    "import pandas as pd\n",
    "import os\n",
    "import matplotlib.pyplot as plt\n",
    "%matplotlib inline"
   ]
  },
  {
   "cell_type": "code",
   "execution_count": 5,
   "metadata": {},
   "outputs": [],
   "source": [
    "# Spark Imports \n",
    "from pyspark.sql import SparkSession\n",
    "from pyspark.sql.types import *\n",
    "from pyspark.sql.functions import *\n",
    "\n",
    "from pyspark.ml import Pipeline\n",
    "from pyspark.ml.feature import VectorAssembler, StringIndexer, VectorIndexer, MinMaxScaler\n",
    "from pyspark.ml.classification import LogisticRegression\n",
    "from pyspark.ml.tuning import ParamGridBuilder, CrossValidator\n",
    "from pyspark.ml.evaluation import BinaryClassificationEvaluator\n"
   ]
  },
  {
   "cell_type": "code",
   "execution_count": 6,
   "metadata": {},
   "outputs": [],
   "source": [
    "spark = SparkSession.builder.appName('airport-flight-project').getOrCreate()"
   ]
  },
  {
   "cell_type": "markdown",
   "metadata": {},
   "source": [
    "### Load Data"
   ]
  },
  {
   "cell_type": "code",
   "execution_count": 9,
   "metadata": {},
   "outputs": [
    {
     "name": "stdout",
     "output_type": "stream",
     "text": [
      "+----------+---------+-------+---------------+-------------+--------+--------+\n",
      "|DayofMonth|DayOfWeek|Carrier|OriginAirportID|DestAirportID|DepDelay|ArrDelay|\n",
      "+----------+---------+-------+---------------+-------------+--------+--------+\n",
      "|        19|        5|     DL|          11433|        13303|      -3|       1|\n",
      "|        19|        5|     DL|          14869|        12478|       0|      -8|\n",
      "|        19|        5|     DL|          14057|        14869|      -4|     -15|\n",
      "|        19|        5|     DL|          15016|        11433|      28|      24|\n",
      "|        19|        5|     DL|          11193|        12892|      -6|     -11|\n",
      "|        19|        5|     DL|          10397|        15016|      -1|     -19|\n",
      "|        19|        5|     DL|          15016|        10397|       0|      -1|\n",
      "|        19|        5|     DL|          10397|        14869|      15|      24|\n",
      "|        19|        5|     DL|          10397|        10423|      33|      34|\n",
      "|        19|        5|     DL|          11278|        10397|     323|     322|\n",
      "+----------+---------+-------+---------------+-------------+--------+--------+\n",
      "only showing top 10 rows\n",
      "\n"
     ]
    }
   ],
   "source": [
    "raw_data = spark.read.csv('flights.csv', inferSchema=True, header=True)\n",
    "raw_data.show(10)"
   ]
  },
  {
   "cell_type": "markdown",
   "metadata": {},
   "source": [
    "I select a subset of columns to use as features and create a Boolean label field named label with values 1 or 0. Specifically, 1 for flight that arrived late, 0 for flight was early or on-time."
   ]
  },
  {
   "cell_type": "code",
   "execution_count": 10,
   "metadata": {},
   "outputs": [
    {
     "name": "stdout",
     "output_type": "stream",
     "text": [
      "+----------+---------+-------+---------------+-------------+--------+-----+\n",
      "|DayofMonth|DayOfWeek|Carrier|OriginAirportID|DestAirportID|DepDelay|label|\n",
      "+----------+---------+-------+---------------+-------------+--------+-----+\n",
      "|        19|        5|     DL|          11433|        13303|      -3|    0|\n",
      "|        19|        5|     DL|          14869|        12478|       0|    0|\n",
      "|        19|        5|     DL|          14057|        14869|      -4|    0|\n",
      "|        19|        5|     DL|          15016|        11433|      28|    1|\n",
      "|        19|        5|     DL|          11193|        12892|      -6|    0|\n",
      "|        19|        5|     DL|          10397|        15016|      -1|    0|\n",
      "|        19|        5|     DL|          15016|        10397|       0|    0|\n",
      "|        19|        5|     DL|          10397|        14869|      15|    1|\n",
      "|        19|        5|     DL|          10397|        10423|      33|    1|\n",
      "|        19|        5|     DL|          11278|        10397|     323|    1|\n",
      "+----------+---------+-------+---------------+-------------+--------+-----+\n",
      "only showing top 10 rows\n",
      "\n"
     ]
    }
   ],
   "source": [
    "data = raw_data.select(\"DayofMonth\", \"DayOfWeek\", \"Carrier\", \n",
    "                       \"OriginAirportID\", \"DestAirportID\", \"DepDelay\", \n",
    "                       ((col(\"ArrDelay\") > 15).cast(\"Int\").alias(\"label\"))\n",
    "                      )\n",
    "data.show(10)"
   ]
  },
  {
   "cell_type": "code",
   "execution_count": 24,
   "metadata": {},
   "outputs": [],
   "source": [
    "data = data.dropna()"
   ]
  },
  {
   "cell_type": "code",
   "execution_count": 67,
   "metadata": {},
   "outputs": [
    {
     "data": {
      "text/plain": [
       "[('DayofMonth', 'int'),\n",
       " ('DayOfWeek', 'int'),\n",
       " ('Carrier', 'string'),\n",
       " ('OriginAirportID', 'int'),\n",
       " ('DestAirportID', 'int'),\n",
       " ('DepDelay', 'int'),\n",
       " ('label', 'int')]"
      ]
     },
     "execution_count": 67,
     "metadata": {},
     "output_type": "execute_result"
    }
   ],
   "source": [
    "data.dtypes"
   ]
  },
  {
   "cell_type": "code",
   "execution_count": 25,
   "metadata": {},
   "outputs": [
    {
     "name": "stdout",
     "output_type": "stream",
     "text": [
      "(549504, 7)\n",
      "(549503, 7)\n"
     ]
    }
   ],
   "source": [
    "print((raw_data.count(), len(raw_data.columns)))\n",
    "print((data.count(), len(data.columns)))"
   ]
  },
  {
   "cell_type": "markdown",
   "metadata": {},
   "source": [
    "### Split Data "
   ]
  },
  {
   "cell_type": "code",
   "execution_count": 35,
   "metadata": {},
   "outputs": [
    {
     "name": "stdout",
     "output_type": "stream",
     "text": [
      "Training Rows: 384625  Testing Rows: 164878\n"
     ]
    }
   ],
   "source": [
    "splits = data.randomSplit([0.7, 0.3])\n",
    "train = splits[0]\n",
    "test = splits[1].withColumnRenamed(\"label\", \"trueLabel\")\n",
    "train_rows = train.count()\n",
    "test_rows = test.count()\n",
    "print(\"Training Rows:\", train_rows, \" Testing Rows:\", test_rows)"
   ]
  },
  {
   "cell_type": "markdown",
   "metadata": {},
   "source": [
    "### EDA "
   ]
  },
  {
   "cell_type": "code",
   "execution_count": 56,
   "metadata": {},
   "outputs": [],
   "source": [
    "train_df = train.toPandas()"
   ]
  },
  {
   "cell_type": "code",
   "execution_count": 61,
   "metadata": {},
   "outputs": [
    {
     "data": {
      "text/html": [
       "<div>\n",
       "<style scoped>\n",
       "    .dataframe tbody tr th:only-of-type {\n",
       "        vertical-align: middle;\n",
       "    }\n",
       "\n",
       "    .dataframe tbody tr th {\n",
       "        vertical-align: top;\n",
       "    }\n",
       "\n",
       "    .dataframe thead th {\n",
       "        text-align: right;\n",
       "    }\n",
       "</style>\n",
       "<table border=\"1\" class=\"dataframe\">\n",
       "  <thead>\n",
       "    <tr style=\"text-align: right;\">\n",
       "      <th></th>\n",
       "      <th>DayofMonth</th>\n",
       "      <th>DayOfWeek</th>\n",
       "      <th>Carrier</th>\n",
       "      <th>OriginAirportID</th>\n",
       "      <th>DestAirportID</th>\n",
       "      <th>DepDelay</th>\n",
       "      <th>label</th>\n",
       "    </tr>\n",
       "  </thead>\n",
       "  <tbody>\n",
       "    <tr>\n",
       "      <th>0</th>\n",
       "      <td>1</td>\n",
       "      <td>1</td>\n",
       "      <td>9E</td>\n",
       "      <td>10397</td>\n",
       "      <td>10693</td>\n",
       "      <td>-2</td>\n",
       "      <td>0</td>\n",
       "    </tr>\n",
       "    <tr>\n",
       "      <th>1</th>\n",
       "      <td>1</td>\n",
       "      <td>1</td>\n",
       "      <td>9E</td>\n",
       "      <td>10397</td>\n",
       "      <td>12264</td>\n",
       "      <td>-3</td>\n",
       "      <td>0</td>\n",
       "    </tr>\n",
       "    <tr>\n",
       "      <th>2</th>\n",
       "      <td>1</td>\n",
       "      <td>1</td>\n",
       "      <td>9E</td>\n",
       "      <td>10397</td>\n",
       "      <td>12264</td>\n",
       "      <td>18</td>\n",
       "      <td>0</td>\n",
       "    </tr>\n",
       "    <tr>\n",
       "      <th>3</th>\n",
       "      <td>1</td>\n",
       "      <td>1</td>\n",
       "      <td>9E</td>\n",
       "      <td>10397</td>\n",
       "      <td>13851</td>\n",
       "      <td>-2</td>\n",
       "      <td>0</td>\n",
       "    </tr>\n",
       "    <tr>\n",
       "      <th>4</th>\n",
       "      <td>1</td>\n",
       "      <td>1</td>\n",
       "      <td>9E</td>\n",
       "      <td>10397</td>\n",
       "      <td>13851</td>\n",
       "      <td>2</td>\n",
       "      <td>0</td>\n",
       "    </tr>\n",
       "  </tbody>\n",
       "</table>\n",
       "</div>"
      ],
      "text/plain": [
       "   DayofMonth  DayOfWeek Carrier  OriginAirportID  DestAirportID  DepDelay  \\\n",
       "0           1          1      9E            10397          10693        -2   \n",
       "1           1          1      9E            10397          12264        -3   \n",
       "2           1          1      9E            10397          12264        18   \n",
       "3           1          1      9E            10397          13851        -2   \n",
       "4           1          1      9E            10397          13851         2   \n",
       "\n",
       "   label  \n",
       "0      0  \n",
       "1      0  \n",
       "2      0  \n",
       "3      0  \n",
       "4      0  "
      ]
     },
     "execution_count": 61,
     "metadata": {},
     "output_type": "execute_result"
    }
   ],
   "source": [
    "train_df.head()"
   ]
  },
  {
   "cell_type": "code",
   "execution_count": 63,
   "metadata": {},
   "outputs": [
    {
     "data": {
      "text/plain": [
       "<matplotlib.axes._subplots.AxesSubplot at 0x7f30658cf610>"
      ]
     },
     "execution_count": 63,
     "metadata": {},
     "output_type": "execute_result"
    },
    {
     "data": {
      "image/png": "[encoded data removed]",
      "text/plain": [
       "<Figure size 1440x720 with 1 Axes>"
      ]
     },
     "metadata": {
      "needs_background": "light"
     },
     "output_type": "display_data"
    }
   ],
   "source": [
    "train_df[['DayofMonth', 'DayOfWeek', 'Carrier', 'OriginAirportID',\n",
    "       'DestAirportID', 'DepDelay']].corrwith(train_df.label).plot.bar(figsize = (20, 10), \n",
    "                                            title = 'correlation with the Label Variable', \n",
    "                                            fontsize = 10, rot = 90, grid = True)"
   ]
  },
  {
   "cell_type": "code",
   "execution_count": 66,
   "metadata": {},
   "outputs": [
    {
     "data": {
      "text/plain": [
       "Text(0, 0.5, '')"
      ]
     },
     "execution_count": 66,
     "metadata": {},
     "output_type": "execute_result"
    },
    {
     "data": {
      "image/png": "[encoded data removed]",
      "text/plain": [
       "<Figure size 576x576 with 1 Axes>"
      ]
     },
     "metadata": {},
     "output_type": "display_data"
    }
   ],
   "source": [
    "plt.figure(figsize=(8,8))\n",
    "train_df['label'].value_counts().plot.pie(explode=[0,0.1],autopct='%1.1f%%',shadow=True)\n",
    "plt.title('label-ArrDelay')\n",
    "plt.ylabel('')"
   ]
  },
  {
   "cell_type": "markdown",
   "metadata": {},
   "source": [
    "#### Define the Pipeline\n",
    "A pipeline consists of a series of transformer and estimator stages that typically prepare a DataFrame for modeling and then train a predictive model. In this case, you will create a pipeline with seven stages:\n",
    "\n",
    "- **StringIndexer** estimator that converts string values to indexes for categorical features\n",
    "- **VectorAssembler** that combines categorical features into a single vector\n",
    "- **VectorIndexer** that creates indexes for a vector of categorical features\n",
    "- **VectorAssembler** that creates a vector of continuous numeric features\n",
    "- **MinMaxScaler** that normalizes continuous numeric features\n",
    "- **VectorAssembler** that creates a vector of categorical and continuous features\n",
    "- **DecisionTreeClassifier** that trains a classification model."
   ]
  },
  {
   "cell_type": "code",
   "execution_count": 40,
   "metadata": {},
   "outputs": [],
   "source": [
    "strIdx = StringIndexer(inputCol = \"Carrier\", outputCol = \"CarrierIdx\")\n",
    "\n",
    "catVect = VectorAssembler(inputCols = [\"CarrierIdx\", \"DayofMonth\", \"DayOfWeek\", \n",
    "                                        \"OriginAirportID\", \"DestAirportID\"], \n",
    "                          outputCol = \"catFeatures\")\n",
    "\n",
    "catIdx = VectorIndexer(inputCol = catVect.getOutputCol(), \n",
    "                       \n",
    "                       outputCol = \"idxCatFeatures\")\n",
    "\n",
    "numVect = VectorIndexer(inputCols = [\"DepDelay\"],outputCol = \"numFeatures\")\n",
    "\n",
    "minMax = MinMaxScaler(inputCol = numVect.getOutputCol(), \n",
    "                      outputCol=\"normFeatures\")\n",
    "\n",
    "featVect = VectorAssembler(inputCols= [\"idxCatFeatures\", \"normFeatures\"], \n",
    "                           outputCol= \"features\")\n",
    "\n",
    "# Logistic Regression\n",
    "lr = LogisticRegression(labelCol=\"label\",\n",
    "                        featuresCol=\"features\",\n",
    "                        maxIter=10,\n",
    "                        regParam=0.3)"
   ]
  },
  {
   "cell_type": "code",
   "execution_count": 43,
   "metadata": {},
   "outputs": [],
   "source": [
    "pipeline = Pipeline(stages = [strIdx, catVect, catIdx,\n",
    "                            numVect, minMax, featVect, lr\n",
    "                             ])\n",
    "\n",
    "piplineModel = pipeline.fit(train)"
   ]
  },
  {
   "cell_type": "markdown",
   "metadata": {},
   "source": [
    "### Generate label predictions\n",
    "Transform the test data with all of the stages and the trained model in the pipeline to generate label predictions."
   ]
  },
  {
   "cell_type": "code",
   "execution_count": 80,
   "metadata": {
    "scrolled": false
   },
   "outputs": [
    {
     "name": "stdout",
     "output_type": "stream",
     "text": [
      "+--------------------------------------------------+----------+---------+\n",
      "|features                                          |prediction|trueLabel|\n",
      "+--------------------------------------------------+----------+---------+\n",
      "|[8.0,1.0,0.0,10397.0,12191.0,0.03317535545023697] |0.0       |0        |\n",
      "|[8.0,1.0,0.0,10397.0,12191.0,0.033852403520649964]|0.0       |0        |\n",
      "|[8.0,1.0,0.0,10397.0,12264.0,0.03182125930941097] |0.0       |0        |\n",
      "|[8.0,1.0,0.0,10397.0,12264.0,0.05077860528097495] |0.0       |0        |\n",
      "|[8.0,1.0,0.0,10423.0,11433.0,0.03182125930941097] |0.0       |0        |\n",
      "|[8.0,1.0,0.0,10529.0,11193.0,0.03182125930941097] |0.0       |0        |\n",
      "|[8.0,1.0,0.0,10529.0,11193.0,0.03182125930941097] |0.0       |0        |\n",
      "|[8.0,1.0,0.0,10529.0,11193.0,0.04129993229519296] |0.0       |0        |\n",
      "|[8.0,1.0,0.0,10721.0,12478.0,0.03317535545023697] |0.0       |1        |\n",
      "|[8.0,1.0,0.0,10721.0,13244.0,0.03317535545023697] |0.0       |0        |\n",
      "|[8.0,1.0,0.0,10721.0,13931.0,0.02979011509817197] |0.0       |0        |\n",
      "|[8.0,1.0,0.0,10721.0,13931.0,0.035206499661475966]|0.0       |1        |\n",
      "|[8.0,1.0,0.0,10792.0,11433.0,0.03114421123899797] |0.0       |0        |\n",
      "|[8.0,1.0,0.0,10792.0,11433.0,0.03249830737982397] |0.0       |0        |\n",
      "|[8.0,1.0,0.0,10792.0,11433.0,0.040622884224779957]|0.0       |1        |\n",
      "|[8.0,1.0,0.0,10821.0,11193.0,0.06635071090047394] |0.0       |1        |\n",
      "|[8.0,1.0,0.0,10821.0,12478.0,0.03249830737982397] |0.0       |0        |\n",
      "|[8.0,1.0,0.0,10821.0,13487.0,0.03046716316858497] |0.0       |0        |\n",
      "|[8.0,1.0,0.0,11042.0,11433.0,0.03114421123899797] |0.0       |0        |\n",
      "|[8.0,1.0,0.0,11042.0,13487.0,0.026404874746106973]|0.0       |0        |\n",
      "|[8.0,1.0,0.0,11042.0,13487.0,0.03317535545023697] |0.0       |0        |\n",
      "|[8.0,1.0,0.0,11057.0,13244.0,0.03249830737982397] |0.0       |0        |\n",
      "|[8.0,1.0,0.0,11057.0,13244.0,0.03317535545023697] |0.0       |0        |\n",
      "|[8.0,1.0,0.0,11193.0,10529.0,0.03114421123899797] |0.0       |0        |\n",
      "|[8.0,1.0,0.0,11193.0,10529.0,0.033852403520649964]|0.0       |0        |\n",
      "|[8.0,1.0,0.0,11193.0,10693.0,0.05687203791469194] |0.0       |1        |\n",
      "|[8.0,1.0,0.0,11193.0,10821.0,0.02979011509817197] |0.0       |0        |\n",
      "|[8.0,1.0,0.0,11193.0,10821.0,0.037237643872714964]|0.0       |0        |\n",
      "|[8.0,1.0,0.0,11193.0,11278.0,0.03317535545023697] |0.0       |1        |\n",
      "|[8.0,1.0,0.0,11193.0,11278.0,0.05890318212593094] |0.0       |1        |\n",
      "|[8.0,1.0,0.0,11193.0,11433.0,0.03046716316858497] |0.0       |0        |\n",
      "|[8.0,1.0,0.0,11193.0,11618.0,0.03182125930941097] |0.0       |0        |\n",
      "|[8.0,1.0,0.0,11193.0,11618.0,0.07650643195666892] |0.0       |1        |\n",
      "|[8.0,1.0,0.0,11193.0,13198.0,0.02843601895734597] |0.0       |0        |\n",
      "|[8.0,1.0,0.0,11193.0,13198.0,0.037914691943127965]|0.0       |1        |\n",
      "|[8.0,1.0,0.0,11193.0,13244.0,0.02911306702775897] |0.0       |0        |\n",
      "|[8.0,1.0,0.0,11193.0,13342.0,0.02979011509817197] |0.0       |0        |\n",
      "|[8.0,1.0,0.0,11193.0,13930.0,0.03114421123899797] |0.0       |0        |\n",
      "|[8.0,1.0,0.0,11193.0,13930.0,0.03182125930941097] |0.0       |0        |\n",
      "|[8.0,1.0,0.0,11193.0,13930.0,0.03182125930941097] |0.0       |0        |\n",
      "|[8.0,1.0,0.0,11193.0,13930.0,0.03249830737982397] |0.0       |0        |\n",
      "|[8.0,1.0,0.0,11193.0,14122.0,0.05687203791469194] |0.0       |1        |\n",
      "|[8.0,1.0,0.0,11193.0,14492.0,0.03182125930941097] |0.0       |0        |\n",
      "|[8.0,1.0,0.0,11193.0,14492.0,0.052809749492213946]|0.0       |1        |\n",
      "|[8.0,1.0,0.0,11278.0,13244.0,0.05348679756262695] |0.0       |1        |\n",
      "|[8.0,1.0,0.0,11433.0,10693.0,0.035206499661475966]|0.0       |0        |\n",
      "|[8.0,1.0,0.0,11433.0,10792.0,0.03317535545023697] |0.0       |0        |\n",
      "|[8.0,1.0,0.0,11433.0,11042.0,0.02979011509817197] |0.0       |0        |\n",
      "|[8.0,1.0,0.0,11433.0,11042.0,0.033852403520649964]|0.0       |0        |\n",
      "|[8.0,1.0,0.0,11433.0,11193.0,0.03249830737982397] |0.0       |0        |\n",
      "|[8.0,1.0,0.0,11433.0,11278.0,0.034529451591062965]|0.0       |0        |\n",
      "|[8.0,1.0,0.0,11433.0,12264.0,0.033852403520649964]|0.0       |0        |\n",
      "|[8.0,1.0,0.0,11433.0,12266.0,0.03588354773188896] |0.0       |1        |\n",
      "|[8.0,1.0,0.0,11433.0,12339.0,0.03114421123899797] |0.0       |0        |\n",
      "|[8.0,1.0,0.0,11433.0,12339.0,0.040622884224779957]|0.0       |1        |\n",
      "|[8.0,1.0,0.0,11433.0,12339.0,0.04739336492890995] |0.0       |0        |\n",
      "|[8.0,1.0,0.0,11433.0,13232.0,0.03317535545023697] |0.0       |0        |\n",
      "|[8.0,1.0,0.0,11433.0,13871.0,0.03859174001354096] |0.0       |0        |\n",
      "|[8.0,1.0,0.0,11433.0,13931.0,0.03046716316858497] |0.0       |0        |\n",
      "|[8.0,1.0,0.0,11433.0,13931.0,0.03182125930941097] |0.0       |0        |\n",
      "|[8.0,1.0,0.0,11433.0,13931.0,0.03249830737982397] |0.0       |0        |\n",
      "|[8.0,1.0,0.0,11433.0,14307.0,0.03182125930941097] |0.0       |0        |\n",
      "|[8.0,1.0,0.0,11433.0,14307.0,0.03249830737982397] |0.0       |0        |\n",
      "|[8.0,1.0,0.0,11433.0,14492.0,0.03249830737982397] |0.0       |0        |\n",
      "|[8.0,1.0,0.0,11433.0,14524.0,0.03182125930941097] |0.0       |0        |\n",
      "|[8.0,1.0,0.0,11618.0,11193.0,0.03114421123899797] |0.0       |0        |\n",
      "|[8.0,1.0,0.0,12191.0,10397.0,0.03249830737982397] |0.0       |0        |\n",
      "|[8.0,1.0,0.0,12264.0,10397.0,0.03046716316858497] |0.0       |0        |\n",
      "|[8.0,1.0,0.0,12264.0,10397.0,0.040622884224779957]|0.0       |0        |\n",
      "|[8.0,1.0,0.0,12264.0,11433.0,0.02979011509817197] |0.0       |0        |\n",
      "|[8.0,1.0,0.0,12266.0,13244.0,0.03249830737982397] |0.0       |0        |\n",
      "|[8.0,1.0,0.0,12339.0,11433.0,0.02843601895734597] |0.0       |0        |\n",
      "|[8.0,1.0,0.0,12339.0,11433.0,0.03114421123899797] |0.0       |1        |\n",
      "|[8.0,1.0,0.0,12339.0,12478.0,0.03182125930941097] |0.0       |0        |\n",
      "|[8.0,1.0,0.0,12339.0,13487.0,0.03046716316858497] |0.0       |0        |\n",
      "|[8.0,1.0,0.0,12339.0,13487.0,0.04129993229519296] |0.0       |0        |\n",
      "|[8.0,1.0,0.0,12478.0,10693.0,0.03182125930941097] |0.0       |0        |\n",
      "|[8.0,1.0,0.0,12478.0,10721.0,0.03182125930941097] |0.0       |0        |\n",
      "|[8.0,1.0,0.0,12478.0,10792.0,0.03656059580230196] |0.0       |0        |\n",
      "|[8.0,1.0,0.0,12478.0,11057.0,0.05416384563303995] |0.0       |1        |\n",
      "|[8.0,1.0,0.0,12478.0,11278.0,0.03249830737982397] |0.0       |0        |\n",
      "|[8.0,1.0,0.0,12478.0,11278.0,0.033852403520649964]|0.0       |0        |\n",
      "|[8.0,1.0,0.0,12478.0,11433.0,0.040622884224779957]|0.0       |0        |\n",
      "|[8.0,1.0,0.0,12478.0,12339.0,0.035206499661475966]|0.0       |0        |\n",
      "|[8.0,1.0,0.0,12478.0,13487.0,0.07786052809749493] |0.0       |1        |\n",
      "|[8.0,1.0,0.0,12478.0,13930.0,0.035206499661475966]|0.0       |0        |\n",
      "|[8.0,1.0,0.0,12478.0,13930.0,0.14421123899796887] |1.0       |1        |\n",
      "|[8.0,1.0,0.0,12478.0,13931.0,0.025727826675693975]|0.0       |0        |\n",
      "|[8.0,1.0,0.0,12478.0,14100.0,0.033852403520649964]|0.0       |0        |\n",
      "|[8.0,1.0,0.0,12478.0,14100.0,0.035206499661475966]|0.0       |1        |\n",
      "|[8.0,1.0,0.0,12478.0,14100.0,0.07041299932295193] |0.0       |1        |\n",
      "|[8.0,1.0,0.0,12478.0,14122.0,0.027081922816519974]|0.0       |0        |\n",
      "|[8.0,1.0,0.0,12478.0,14122.0,0.05077860528097495] |0.0       |1        |\n",
      "|[8.0,1.0,0.0,12478.0,14492.0,0.040622884224779957]|0.0       |0        |\n",
      "|[8.0,1.0,0.0,13198.0,11193.0,0.02979011509817197] |0.0       |0        |\n",
      "|[8.0,1.0,0.0,13204.0,14492.0,0.1780636425186188]  |1.0       |1        |\n",
      "|[8.0,1.0,0.0,13232.0,11433.0,0.023019634394041977]|0.0       |0        |\n",
      "|[8.0,1.0,0.0,13232.0,11433.0,0.03114421123899797] |0.0       |0        |\n",
      "|[8.0,1.0,0.0,13232.0,11433.0,0.03317535545023697] |0.0       |0        |\n",
      "|[8.0,1.0,0.0,13232.0,13487.0,0.03249830737982397] |0.0       |0        |\n",
      "+--------------------------------------------------+----------+---------+\n",
      "only showing top 100 rows\n",
      "\n"
     ]
    }
   ],
   "source": [
    "prediction = piplineModel.transform(test)\n",
    "predicted = prediction.select(\"features\", \"prediction\", \"trueLabel\")\n",
    "predicted.show(100, truncate=False)"
   ]
  },
  {
   "cell_type": "markdown",
   "metadata": {},
   "source": [
    "- Looking into the results, some trueLabel 1s are predicted as 0. Let's evaluate the model."
   ]
  },
  {
   "cell_type": "code",
   "execution_count": 81,
   "metadata": {},
   "outputs": [],
   "source": [
    "def calculateConfusionMatrix(pred):\n",
    "    \"\"\"\n",
    "        Helper function to Calculate Confusion Matrix\n",
    "    \"\"\"\n",
    "    tp = float(pred.filter(\"prediction == 1.0 AND truelabel == 1\").count())\n",
    "    fp = float(pred.filter(\"prediction == 1.0 AND truelabel == 0\").count())\n",
    "    tn = float(pred.filter(\"prediction == 0.0 AND truelabel == 0\").count())\n",
    "    fn = float(pred.filter(\"prediction == 0.0 AND truelabel == 1\").count())\n",
    "    pr = tp / (tp + fp)\n",
    "    re = tp / (tp + fn)\n",
    "\n",
    "    metrics = spark.createDataFrame([\n",
    "                                     (\"TP\", tp),\n",
    "                                     (\"FP\", fp),\n",
    "                                     (\"TN\", tn),\n",
    "                                     (\"FN\", fn),\n",
    "                                     (\"Precision\", pr),\n",
    "                                     (\"Recall\", re),\n",
    "                                     (\"F1\", 2*pr*re/(re+pr))],[\"metric\", \"value\"])\n",
    "    return metrics.show()"
   ]
  },
  {
   "cell_type": "code",
   "execution_count": 83,
   "metadata": {},
   "outputs": [
    {
     "name": "stdout",
     "output_type": "stream",
     "text": [
      "+---------+-------------------+\n",
      "|   metric|              value|\n",
      "+---------+-------------------+\n",
      "|       TP|             3586.0|\n",
      "|       FP|               25.0|\n",
      "|       TN|           132321.0|\n",
      "|       FN|            28946.0|\n",
      "|Precision|  0.993076710052617|\n",
      "|   Recall|0.11022992745604328|\n",
      "|       F1|0.19843399828459177|\n",
      "+---------+-------------------+\n",
      "\n"
     ]
    }
   ],
   "source": [
    "calculateConfusionMatrix(predicted)"
   ]
  },
  {
   "cell_type": "markdown",
   "metadata": {},
   "source": [
    "- Looks like we've got a good Precision, but a low Recall, therefore our F1 is not that good."
   ]
  },
  {
   "cell_type": "markdown",
   "metadata": {},
   "source": [
    "### Area Under ROC\n",
    "Another way to assess the performance of a classification model is to measure the area under a ROC (Receiver Operating Characteristic) curve for the model. the spark.ml library includes a BinaryClassificationEvaluator class that we can use to compute this. The ROC curve shows the True Positive and False Positive rates plotted for varying thresholds."
   ]
  },
  {
   "cell_type": "code",
   "execution_count": 46,
   "metadata": {},
   "outputs": [
    {
     "name": "stdout",
     "output_type": "stream",
     "text": [
      "AUR =  0.9115664823358134\n"
     ]
    }
   ],
   "source": [
    "evaluator = BinaryClassificationEvaluator(labelCol=\"trueLabel\", \n",
    "                                          rawPredictionCol=\"rawPrediction\", \n",
    "                                          metricName=\"areaUnderROC\")\n",
    "\n",
    "aur = evaluator.evaluate(prediction)\n",
    "print (\"AUR = \", aur)"
   ]
  },
  {
   "cell_type": "markdown",
   "metadata": {},
   "source": [
    "- AUR shows that our model is ok. Let's look deeper."
   ]
  },
  {
   "cell_type": "code",
   "execution_count": 47,
   "metadata": {},
   "outputs": [
    {
     "name": "stdout",
     "output_type": "stream",
     "text": [
      "+----------------------------------------+----------------------------------------+----------+---------+\n",
      "|rawPrediction                           |probability                             |prediction|trueLabel|\n",
      "+----------------------------------------+----------------------------------------+----------+---------+\n",
      "|[1.4894390566671825,-1.4894390566671825]|[0.8159940631287705,0.1840059368712295] |0.0       |0        |\n",
      "|[1.4763726246503706,-1.4763726246503706]|[0.8140240617943408,0.18597593820565914]|0.0       |0        |\n",
      "|[1.517548805283775,-1.517548805283775]  |[0.8201772460707109,0.17982275392928912]|0.0       |0        |\n",
      "|[1.151688708813042,-1.151688708813042]  |[0.759819231322015,0.24018076867798493] |0.0       |0        |\n",
      "|[1.4958605772429663,-1.4958605772429663]|[0.8169562841987797,0.18304371580122014]|0.0       |0        |\n",
      "|[1.492687019286102,-1.492687019286102]  |[0.8164812369820185,0.18351876301798148]|0.0       |0        |\n",
      "|[1.492687019286102,-1.492687019286102]  |[0.8164812369820185,0.18351876301798148]|0.0       |0        |\n",
      "|[1.3097569710507355,-1.3097569710507355]|[0.7874724854985956,0.21252751450140428]|0.0       |0        |\n",
      "|[1.5073768099831495,-1.5073768099831495]|[0.8186721248059814,0.1813278751940186] |0.0       |1        |\n",
      "|[1.5281205577989572,-1.5281205577989572]|[0.8217311629527981,0.1782688370472019] |0.0       |0        |\n",
      "|[1.612057097451502,-1.612057097451502]  |[0.8336967915010182,0.16630320849898192]|0.0       |0        |\n",
      "|[1.5075256413170068,-1.5075256413170068]|[0.8186942174834098,0.18130578251659032]|0.0       |1        |\n",
      "|[1.5205045186916264,-1.5205045186916264]|[0.8206127615200979,0.1793872384799021] |0.0       |0        |\n",
      "|[1.4943716546580028,-1.4943716546580028]|[0.8167335275474001,0.18326647245259986]|0.0       |0        |\n",
      "|[1.3375744704562602,-1.3375744704562602]|[0.792090781008384,0.20790921899161594] |0.0       |1        |\n",
      "|[0.83546059280837,-0.83546059280837]    |[0.6975083039286447,0.30249169607135523]|0.0       |1        |\n",
      "|[1.5235807784313566,-1.5235807784313566]|[0.8210651633386037,0.17893483666139637]|0.0       |0        |\n",
      "|[1.59010441070392,-1.59010441070392]    |[0.8306307924132662,0.16936920758673385]|0.0       |0        |\n",
      "|[1.5283483597701144,-1.5283483597701144]|[0.8217645310034204,0.17823546899657958]|0.0       |0        |\n",
      "|[1.6754369583181747,-1.6754369583181747]|[0.8422993633368262,0.15770063666317383]|0.0       |0        |\n",
      "|[1.544772638150056,-1.544772638150056]  |[0.8241574556181849,0.1758425443818152] |0.0       |0        |\n",
      "|[1.551729112225257,-1.551729112225257]  |[0.8251633290703968,0.1748366709296032] |0.0       |0        |\n",
      "|[1.538662680208445,-1.538662680208445]  |[0.8232702341753267,0.1767297658246733] |0.0       |0        |\n",
      "|[1.5086051676855812,-1.5086051676855812]|[0.8188544007709827,0.1811455992290173] |0.0       |0        |\n",
      "|[1.456339439618334,-1.456339439618334]  |[0.8109721630477462,0.1890278369522537] |0.0       |0        |\n",
      "|[1.0165219712057278,-1.0165219712057278]|[0.7342945681880163,0.2657054318119837] |0.0       |1        |\n",
      "|[1.5426455700510795,-1.5426455700510795]|[0.8238489841980539,0.17615101580194614]|0.0       |0        |\n",
      "|[1.3989148178661488,-1.3989148178661488]|[0.8020116300720241,0.1979883699279758] |0.0       |0        |\n",
      "|[1.489689249068618,-1.489689249068618]  |[0.8160316259855408,0.18396837401445923]|0.0       |1        |\n",
      "|[0.9931648324297667,-0.9931648324297667]|[0.7297125825963655,0.2702874174036345] |0.0       |1        |\n",
      "|[1.546152471798333,-1.546152471798333]  |[0.8243573343586957,0.17564266564130426]|0.0       |0        |\n",
      "|[1.525029520748945,-1.525029520748945]  |[0.8212779094526811,0.17872209054731888]|0.0       |0        |\n",
      "|[0.6626450076393611,-0.6626450076393611]|[0.6598543021983769,0.3401456978016232] |0.0       |1        |\n",
      "|[1.6331490457794482,-1.6331490457794482]|[0.836600569930299,0.16339943006970092] |0.0       |0        |\n",
      "|[1.450218997544082,-1.450218997544082]  |[0.8100321356312497,0.1899678643687504] |0.0       |1        |\n",
      "|[1.621328321856014,-1.621328321856014]  |[0.8349782401678523,0.16502175983214762]|0.0       |0        |\n",
      "|[1.6109157896903104,-1.6109157896903104]|[0.8335384929591065,0.16646150704089357]|0.0       |0        |\n",
      "|[1.600706324763338,-1.600706324763338]  |[0.8321170806117281,0.16788291938827196]|0.0       |0        |\n",
      "|[1.5876398927465263,-1.5876398927465263]|[0.8302837933706169,0.16971620662938317]|0.0       |0        |\n",
      "|[1.5876398927465263,-1.5876398927465263]|[0.8302837933706169,0.16971620662938317]|0.0       |0        |\n",
      "|[1.5745734607297144,-1.5745734607297144]|[0.8284346141903508,0.1715653858096492] |0.0       |0        |\n",
      "|[1.1093813853838013,-1.1093813853838013]|[0.7520137645659521,0.24798623543404794]|0.0       |1        |\n",
      "|[1.602859195974312,-1.602859195974312]  |[0.8324176179392468,0.16758238206075313]|0.0       |0        |\n",
      "|[1.1977998034531436,-1.1977998034531436]|[0.768133149542788,0.23186685045721198] |0.0       |1        |\n",
      "|[1.153603675217472,-1.153603675217472]  |[0.7601685272406844,0.23983147275931566]|0.0       |1        |\n",
      "|[1.4421778831790564,-1.4421778831790564]|[0.808791682580348,0.19120831741965202] |0.0       |0        |\n",
      "|[1.4840581596913263,-1.4840581596913263]|[0.8151847594118553,0.18481524058814472]|0.0       |0        |\n",
      "|[1.556160472456785,-1.556160472456785]  |[0.82580171522975,0.17419828477024998]  |0.0       |0        |\n",
      "|[1.4777618803559138,-1.4777618803559138]|[0.8142342879245995,0.18576571207540055]|0.0       |0        |\n",
      "|[1.5079839166091027,-1.5079839166091027]|[0.8187622311815961,0.18123776881840398]|0.0       |0        |\n",
      "+----------------------------------------+----------------------------------------+----------+---------+\n",
      "only showing top 50 rows\n",
      "\n"
     ]
    }
   ],
   "source": [
    "prediction.select(\"rawPrediction\", \"probability\",\n",
    "                  \"prediction\", \"trueLabel\").show(50, truncate=False)"
   ]
  },
  {
   "cell_type": "markdown",
   "metadata": {},
   "source": [
    "- we can see from the results above that for those truelabel 1s that we predicted 0s, many of them the problibilty of 1 is just slightly less than the **threshold 0.5**."
   ]
  },
  {
   "cell_type": "markdown",
   "metadata": {},
   "source": [
    "### Tune Parameters\n",
    "- **CrossValidator** to evaluate each combination of parameters defined in a **ParameterGrid** against multiple folds of the data split into training and validation datasets. Note that this can take a long time to run because every parameter combination is tried multiple times."
   ]
  },
  {
   "cell_type": "markdown",
   "metadata": {},
   "source": [
    "### Change the Discrimination Threshold\n",
    "The AUC score seems to indicate a reasonably good model, but the performance metrics seem to indicate that it predicts a high number of False Negative labels (i.e. it predicts 0 when the true label is 1), leading to a low Recall. We can improve this by lowering the threshold. Conversely, sometimes we may want to address a large number of False Positive by raising the threshold.\n",
    "\n",
    "In this case, I'll let the CrossValidator find the best threshold from 0.45, 0.4 and 0.35, regularization parameter from 0.3 and 0.1, and the maximum number of iterations allowed from 10 and 5."
   ]
  },
  {
   "cell_type": "code",
   "execution_count": 48,
   "metadata": {},
   "outputs": [],
   "source": [
    "paramGrid = ParamGridBuilder().addGrid(lr.regParam, [0.3, 0.1])\\\n",
    "                              .addGrid(lr.maxIter, [10, 5])\\\n",
    "                              .addGrid(lr.threshold, [0.4, 0.3])\\\n",
    "                              .build()\n",
    "\n",
    "cv = CrossValidator(estimator=pipeline, \n",
    "                    evaluator=BinaryClassificationEvaluator(), \n",
    "                    estimatorParamMaps=paramGrid, \n",
    "                    numFolds=2)\n",
    "\n",
    "model = cv.fit(train)"
   ]
  },
  {
   "cell_type": "code",
   "execution_count": 49,
   "metadata": {},
   "outputs": [
    {
     "name": "stdout",
     "output_type": "stream",
     "text": [
      "+--------------------+----------+---------+\n",
      "|            features|prediction|trueLabel|\n",
      "+--------------------+----------+---------+\n",
      "|[8.0,1.0,0.0,1039...|       0.0|        0|\n",
      "|[8.0,1.0,0.0,1039...|       0.0|        0|\n",
      "|[8.0,1.0,0.0,1039...|       0.0|        0|\n",
      "|[8.0,1.0,0.0,1039...|       0.0|        0|\n",
      "|[8.0,1.0,0.0,1042...|       0.0|        0|\n",
      "|[8.0,1.0,0.0,1052...|       0.0|        0|\n",
      "|[8.0,1.0,0.0,1052...|       0.0|        0|\n",
      "|[8.0,1.0,0.0,1052...|       0.0|        0|\n",
      "|[8.0,1.0,0.0,1072...|       0.0|        1|\n",
      "|[8.0,1.0,0.0,1072...|       0.0|        0|\n",
      "|[8.0,1.0,0.0,1072...|       0.0|        0|\n",
      "|[8.0,1.0,0.0,1072...|       0.0|        1|\n",
      "|[8.0,1.0,0.0,1079...|       0.0|        0|\n",
      "|[8.0,1.0,0.0,1079...|       0.0|        0|\n",
      "|[8.0,1.0,0.0,1079...|       0.0|        1|\n",
      "|[8.0,1.0,0.0,1082...|       0.0|        1|\n",
      "|[8.0,1.0,0.0,1082...|       0.0|        0|\n",
      "|[8.0,1.0,0.0,1082...|       0.0|        0|\n",
      "|[8.0,1.0,0.0,1104...|       0.0|        0|\n",
      "|[8.0,1.0,0.0,1104...|       0.0|        0|\n",
      "+--------------------+----------+---------+\n",
      "only showing top 20 rows\n",
      "\n"
     ]
    }
   ],
   "source": [
    "newPrediction = model.transform(test)\n",
    "newPredicted = prediction.select(\"features\", \"prediction\", \"trueLabel\")\n",
    "newPredicted.show()"
   ]
  },
  {
   "cell_type": "code",
   "execution_count": 50,
   "metadata": {},
   "outputs": [
    {
     "name": "stdout",
     "output_type": "stream",
     "text": [
      "+------------------------------------------+----------------------------------------+----------+---------+\n",
      "|rawPrediction                             |probability                             |prediction|trueLabel|\n",
      "+------------------------------------------+----------------------------------------+----------+---------+\n",
      "|[1.6034132657820703,-1.6034132657820703]  |[0.8324948956262618,0.1675051043737382] |0.0       |0        |\n",
      "|[1.5779965549872004,-1.5779965549872004]  |[0.8289205941440672,0.17107940585593284]|0.0       |0        |\n",
      "|[1.6579731040420254,-1.6579731040420254]  |[0.8399657287169187,0.1600342712830814] |0.0       |0        |\n",
      "|[0.9463052017856616,-0.9463052017856616]  |[0.7203715175484776,0.2796284824515224] |0.0       |0        |\n",
      "|[1.6166783624781953,-1.6166783624781953]  |[0.8343365258240225,0.1656634741759775] |0.0       |0        |\n",
      "|[1.6090142890163768,-1.6090142890163768]  |[0.8332744884390599,0.16672551156094]   |0.0       |0        |\n",
      "|[1.6090142890163768,-1.6090142890163768]  |[0.8332744884390599,0.16672551156094]   |0.0       |0        |\n",
      "|[1.253180337888195,-1.253180337888195]    |[0.7778499073340706,0.2221500926659295] |0.0       |0        |\n",
      "|[1.6320848272576742,-1.6320848272576742]  |[0.8364550390806078,0.16354496091939225]|0.0       |1        |\n",
      "|[1.6711866788930767,-1.6711866788930767]  |[0.8417339721321739,0.15826602786782606]|0.0       |0        |\n",
      "|[1.8333393870104062,-1.8333393870104062]  |[0.8621590624605494,0.1378409375394506] |0.0       |0        |\n",
      "|[1.630005700651445,-1.630005700651445]    |[0.8361704197072376,0.16382958029276246]|0.0       |1        |\n",
      "|[1.6580635810881594,-1.6580635810881594]  |[0.8399778905662368,0.1600221094337632] |0.0       |0        |\n",
      "|[1.607230159498419,-1.607230159498419]    |[0.8330264752835419,0.1669735247164581] |0.0       |0        |\n",
      "|[1.3022296299599776,-1.3022296299599776]  |[0.7862099869660405,0.21379001303395953]|0.0       |1        |\n",
      "|[0.32539836444549897,-0.32539836444549897]|[0.5806393086031651,0.41936069139683474]|1.0       |1        |\n",
      "|[1.6618290469455235,-1.6618290469455235]  |[0.8404833780773929,0.15951662192260707]|0.0       |0        |\n",
      "|[1.789585404265018,-1.789585404265018]    |[0.85687643835016,0.14312356164983991]  |0.0       |0        |\n",
      "|[1.6688823533206079,-1.6688823533206079]  |[0.8414267529474361,0.15857324705256395]|0.0       |0        |\n",
      "|[1.9516494636877235,-1.9516494636877235]  |[0.875626387680009,0.12437361231999096] |0.0       |0        |\n",
      "|[1.697482355739022,-1.697482355739022]    |[0.84520562998158,0.1547943700184199]   |0.0       |0        |\n",
      "|[1.7111438195683575,-1.7111438195683575]  |[0.8469845840358902,0.15301541596410978]|0.0       |0        |\n",
      "|[1.6857271087734873,-1.6857271087734873]  |[0.8436614062542709,0.15633859374572917]|0.0       |0        |\n",
      "|[1.6292705812027874,-1.6292705812027874]  |[0.836069691211045,0.16393030878895504] |0.0       |0        |\n",
      "|[1.527603738023307,-1.527603738023307]    |[0.8216554419213191,0.178344558078681]  |0.0       |0        |\n",
      "+------------------------------------------+----------------------------------------+----------+---------+\n",
      "only showing top 25 rows\n",
      "\n"
     ]
    }
   ],
   "source": [
    "newPrediction.select(\"rawPrediction\", \"probability\",\n",
    "                  \"prediction\", \"trueLabel\").show(25, truncate=False)"
   ]
  },
  {
   "cell_type": "code",
   "execution_count": 84,
   "metadata": {},
   "outputs": [
    {
     "name": "stdout",
     "output_type": "stream",
     "text": [
      "+---------+------------------+\n",
      "|   metric|             value|\n",
      "+---------+------------------+\n",
      "|       TP|           11954.0|\n",
      "|       FP|              62.0|\n",
      "|       TN|          132284.0|\n",
      "|       FN|           20578.0|\n",
      "|Precision|0.9948402130492676|\n",
      "|   Recall|0.3674535841632854|\n",
      "|       F1|0.5366795366795366|\n",
      "+---------+------------------+\n",
      "\n"
     ]
    }
   ],
   "source": [
    "# Recalculate confusion matrix\n",
    "calculateConfusionMatrix(newPrediction)"
   ]
  },
  {
   "cell_type": "code",
   "execution_count": 52,
   "metadata": {},
   "outputs": [
    {
     "name": "stdout",
     "output_type": "stream",
     "text": [
      "AUR2 =  0.9115664823358134\n"
     ]
    }
   ],
   "source": [
    "# Recalculate the Area Under ROC\n",
    "evaluator2 = BinaryClassificationEvaluator(labelCol=\"trueLabel\", \n",
    "                                           rawPredictionCol=\"prediction\", \n",
    "                                           metricName=\"areaUnderROC\")\n",
    "\n",
    "aur2 = evaluator.evaluate(prediction)\n",
    "\n",
    "print( \"AUR2 = \", aur2)"
   ]
  },
  {
   "cell_type": "markdown",
   "metadata": {},
   "source": [
    "Looks pretty good!😊 The new model improves the \n",
    "- Recall from 0.11 to 0.37,\n",
    "- F1 score from 0.20 to 0.54, without compromising other metrics."
   ]
  },
  {
   "cell_type": "markdown",
   "metadata": {},
   "source": [
    "### Now Let's try \n",
    "- **Decision Tree Classifier**"
   ]
  },
  {
   "cell_type": "code",
   "execution_count": 69,
   "metadata": {},
   "outputs": [],
   "source": [
    "from pyspark.ml.classification import DecisionTreeClassifier"
   ]
  },
  {
   "cell_type": "code",
   "execution_count": 70,
   "metadata": {},
   "outputs": [],
   "source": [
    "dt = DecisionTreeClassifier(featuresCol = 'features', \n",
    "                            labelCol = 'label', \n",
    "                            maxDepth = 3)\n",
    "\n",
    "pipeline = Pipeline(stages = [strIdx, catVect, catIdx,\n",
    "                            numVect, minMax, featVect, dt\n",
    "                             ])"
   ]
  },
  {
   "cell_type": "code",
   "execution_count": 71,
   "metadata": {},
   "outputs": [
    {
     "name": "stdout",
     "output_type": "stream",
     "text": [
      "+--------------------------------------------------+----------+---------+\n",
      "|features                                          |prediction|trueLabel|\n",
      "+--------------------------------------------------+----------+---------+\n",
      "|[8.0,1.0,0.0,10397.0,12191.0,0.03317535545023697] |0.0       |0        |\n",
      "|[8.0,1.0,0.0,10397.0,12191.0,0.033852403520649964]|0.0       |0        |\n",
      "|[8.0,1.0,0.0,10397.0,12264.0,0.03182125930941097] |0.0       |0        |\n",
      "|[8.0,1.0,0.0,10397.0,12264.0,0.05077860528097495] |0.0       |0        |\n",
      "|[8.0,1.0,0.0,10423.0,11433.0,0.03182125930941097] |0.0       |0        |\n",
      "|[8.0,1.0,0.0,10529.0,11193.0,0.03182125930941097] |0.0       |0        |\n",
      "|[8.0,1.0,0.0,10529.0,11193.0,0.03182125930941097] |0.0       |0        |\n",
      "|[8.0,1.0,0.0,10529.0,11193.0,0.04129993229519296] |0.0       |0        |\n",
      "|[8.0,1.0,0.0,10721.0,12478.0,0.03317535545023697] |0.0       |1        |\n",
      "|[8.0,1.0,0.0,10721.0,13244.0,0.03317535545023697] |0.0       |0        |\n",
      "|[8.0,1.0,0.0,10721.0,13931.0,0.02979011509817197] |0.0       |0        |\n",
      "|[8.0,1.0,0.0,10721.0,13931.0,0.035206499661475966]|0.0       |1        |\n",
      "|[8.0,1.0,0.0,10792.0,11433.0,0.03114421123899797] |0.0       |0        |\n",
      "|[8.0,1.0,0.0,10792.0,11433.0,0.03249830737982397] |0.0       |0        |\n",
      "|[8.0,1.0,0.0,10792.0,11433.0,0.040622884224779957]|0.0       |1        |\n",
      "+--------------------------------------------------+----------+---------+\n",
      "only showing top 15 rows\n",
      "\n"
     ]
    }
   ],
   "source": [
    "piplineDtModel = pipeline.fit(train)\n",
    "predictionDt = piplineDtModel.transform(test)\n",
    "predictedDt = predictionDt.select(\"features\", \"prediction\", \"trueLabel\")\n",
    "predictedDt.show(15, truncate=False)"
   ]
  },
  {
   "cell_type": "code",
   "execution_count": 85,
   "metadata": {},
   "outputs": [
    {
     "name": "stdout",
     "output_type": "stream",
     "text": [
      "+---------+------------------+\n",
      "|   metric|             value|\n",
      "+---------+------------------+\n",
      "|       TP|           22785.0|\n",
      "|       FP|            2645.0|\n",
      "|       TN|          129701.0|\n",
      "|       FN|            9747.0|\n",
      "|Precision| 0.895988989382619|\n",
      "|   Recall| 0.700387310955367|\n",
      "|       F1|0.7862047548393776|\n",
      "+---------+------------------+\n",
      "\n"
     ]
    }
   ],
   "source": [
    "# calculate confusion matrix\n",
    "calculateConfusionMatrix(predictedDt)"
   ]
  },
  {
   "cell_type": "code",
   "execution_count": 88,
   "metadata": {},
   "outputs": [
    {
     "name": "stdout",
     "output_type": "stream",
     "text": [
      "AUR3 =  0.8402009091914338\n"
     ]
    }
   ],
   "source": [
    "# Recalculate the Area Under ROC\n",
    "evaluator3 = BinaryClassificationEvaluator(labelCol=\"trueLabel\", \n",
    "                                           rawPredictionCol=\"prediction\", \n",
    "                                           metricName=\"areaUnderROC\")\n",
    "\n",
    "aur3 = evaluator3.evaluate(predictionDt)\n",
    "\n",
    "print( \"AUR3 = \", aur3)"
   ]
  },
  {
   "cell_type": "markdown",
   "metadata": {},
   "source": [
    "Awesome! The Decision Tree model improves the \n",
    "- Recall from 0.37 to 0.70,\n",
    "- F1 score from 0.54 to 0.78,\n",
    "- But AUR reduced from 0.91 to 0.84"
   ]
  },
  {
   "cell_type": "markdown",
   "metadata": {},
   "source": [
    "### Ensemble Methods:\n",
    "- **Random Forest Classifier**"
   ]
  },
  {
   "cell_type": "code",
   "execution_count": 89,
   "metadata": {},
   "outputs": [],
   "source": [
    "from pyspark.ml.classification import RandomForestClassifier"
   ]
  },
  {
   "cell_type": "code",
   "execution_count": 90,
   "metadata": {},
   "outputs": [
    {
     "name": "stdout",
     "output_type": "stream",
     "text": [
      "+--------------------------------------------------+----------+---------+\n",
      "|features                                          |prediction|trueLabel|\n",
      "+--------------------------------------------------+----------+---------+\n",
      "|[8.0,1.0,0.0,10397.0,12191.0,0.03317535545023697] |0.0       |0        |\n",
      "|[8.0,1.0,0.0,10397.0,12191.0,0.033852403520649964]|0.0       |0        |\n",
      "|[8.0,1.0,0.0,10397.0,12264.0,0.03182125930941097] |0.0       |0        |\n",
      "|[8.0,1.0,0.0,10397.0,12264.0,0.05077860528097495] |1.0       |0        |\n",
      "|[8.0,1.0,0.0,10423.0,11433.0,0.03182125930941097] |0.0       |0        |\n",
      "|[8.0,1.0,0.0,10529.0,11193.0,0.03182125930941097] |0.0       |0        |\n",
      "|[8.0,1.0,0.0,10529.0,11193.0,0.03182125930941097] |0.0       |0        |\n",
      "|[8.0,1.0,0.0,10529.0,11193.0,0.04129993229519296] |0.0       |0        |\n",
      "|[8.0,1.0,0.0,10721.0,12478.0,0.03317535545023697] |0.0       |1        |\n",
      "|[8.0,1.0,0.0,10721.0,13244.0,0.03317535545023697] |0.0       |0        |\n",
      "|[8.0,1.0,0.0,10721.0,13931.0,0.02979011509817197] |0.0       |0        |\n",
      "|[8.0,1.0,0.0,10721.0,13931.0,0.035206499661475966]|0.0       |1        |\n",
      "|[8.0,1.0,0.0,10792.0,11433.0,0.03114421123899797] |0.0       |0        |\n",
      "|[8.0,1.0,0.0,10792.0,11433.0,0.03249830737982397] |0.0       |0        |\n",
      "|[8.0,1.0,0.0,10792.0,11433.0,0.040622884224779957]|0.0       |1        |\n",
      "+--------------------------------------------------+----------+---------+\n",
      "only showing top 15 rows\n",
      "\n"
     ]
    }
   ],
   "source": [
    "rf = RandomForestClassifier(featuresCol = 'features', \n",
    "                            labelCol = 'label', \n",
    "                            maxDepth = 5)\n",
    "\n",
    "pipeline = Pipeline(stages = [strIdx, catVect, catIdx,\n",
    "                            numVect, minMax, featVect, rf\n",
    "                             ])\n",
    "\n",
    "piplineRfModel = pipeline.fit(train)\n",
    "predictionRf = piplineRfModel.transform(test)\n",
    "predictionRf = predictionRf.select(\"features\", \"prediction\", \"trueLabel\")\n",
    "predictionRf.show(15, truncate=False)"
   ]
  },
  {
   "cell_type": "code",
   "execution_count": 91,
   "metadata": {},
   "outputs": [
    {
     "name": "stdout",
     "output_type": "stream",
     "text": [
      "+---------+------------------+\n",
      "|   metric|             value|\n",
      "+---------+------------------+\n",
      "|       TP|           23359.0|\n",
      "|       FP|            3279.0|\n",
      "|       TN|          129067.0|\n",
      "|       FN|            9173.0|\n",
      "|Precision|0.8769051730610407|\n",
      "|   Recall|0.7180314766998648|\n",
      "|       F1| 0.789555517998986|\n",
      "+---------+------------------+\n",
      "\n"
     ]
    }
   ],
   "source": [
    "# calculate confusion matrix\n",
    "calculateConfusionMatrix(predictionRf)"
   ]
  },
  {
   "cell_type": "code",
   "execution_count": 92,
   "metadata": {},
   "outputs": [
    {
     "name": "stdout",
     "output_type": "stream",
     "text": [
      "AUR4 =  0.8466277553357121\n"
     ]
    }
   ],
   "source": [
    "# Recalculate the Area Under ROC\n",
    "evaluator4 = BinaryClassificationEvaluator(labelCol=\"trueLabel\", \n",
    "                                           rawPredictionCol=\"prediction\", \n",
    "                                           metricName=\"areaUnderROC\")\n",
    "\n",
    "aur4 = evaluator4.evaluate(predictionRf)\n",
    "\n",
    "print( \"AUR4 = \", aur4)"
   ]
  },
  {
   "cell_type": "markdown",
   "metadata": {},
   "source": [
    "- **Gradient-Boosted Tree Classifier**"
   ]
  },
  {
   "cell_type": "code",
   "execution_count": 101,
   "metadata": {},
   "outputs": [],
   "source": [
    "from pyspark.ml.classification import GBTClassifier"
   ]
  },
  {
   "cell_type": "code",
   "execution_count": 102,
   "metadata": {},
   "outputs": [
    {
     "name": "stdout",
     "output_type": "stream",
     "text": [
      "+--------------------------------------------------+----------+---------+\n",
      "|features                                          |prediction|trueLabel|\n",
      "+--------------------------------------------------+----------+---------+\n",
      "|[8.0,1.0,0.0,10397.0,12191.0,0.03317535545023697] |0.0       |0        |\n",
      "|[8.0,1.0,0.0,10397.0,12191.0,0.033852403520649964]|0.0       |0        |\n",
      "|[8.0,1.0,0.0,10397.0,12264.0,0.03182125930941097] |0.0       |0        |\n",
      "|[8.0,1.0,0.0,10397.0,12264.0,0.05077860528097495] |0.0       |0        |\n",
      "|[8.0,1.0,0.0,10423.0,11433.0,0.03182125930941097] |0.0       |0        |\n",
      "|[8.0,1.0,0.0,10529.0,11193.0,0.03182125930941097] |0.0       |0        |\n",
      "|[8.0,1.0,0.0,10529.0,11193.0,0.03182125930941097] |0.0       |0        |\n",
      "|[8.0,1.0,0.0,10529.0,11193.0,0.04129993229519296] |0.0       |0        |\n",
      "|[8.0,1.0,0.0,10721.0,12478.0,0.03317535545023697] |0.0       |1        |\n",
      "|[8.0,1.0,0.0,10721.0,13244.0,0.03317535545023697] |0.0       |0        |\n",
      "|[8.0,1.0,0.0,10721.0,13931.0,0.02979011509817197] |0.0       |0        |\n",
      "|[8.0,1.0,0.0,10721.0,13931.0,0.035206499661475966]|0.0       |1        |\n",
      "|[8.0,1.0,0.0,10792.0,11433.0,0.03114421123899797] |0.0       |0        |\n",
      "|[8.0,1.0,0.0,10792.0,11433.0,0.03249830737982397] |0.0       |0        |\n",
      "|[8.0,1.0,0.0,10792.0,11433.0,0.040622884224779957]|0.0       |1        |\n",
      "+--------------------------------------------------+----------+---------+\n",
      "only showing top 15 rows\n",
      "\n"
     ]
    }
   ],
   "source": [
    "gbt = GBTClassifier(maxIter = 10)\n",
    "\n",
    "pipeline = Pipeline(stages = [strIdx, catVect, catIdx,\n",
    "                            numVect, minMax, featVect, gbt\n",
    "                             ])\n",
    "\n",
    "piplineGbtModel = pipeline.fit(train)\n",
    "predictionGbt = piplineGbtModel.transform(test)\n",
    "predictionGbt = predictionGbt.select(\"features\", \"prediction\", \"trueLabel\")\n",
    "predictionGbt.show(15, truncate=False)"
   ]
  },
  {
   "cell_type": "code",
   "execution_count": 98,
   "metadata": {},
   "outputs": [
    {
     "name": "stdout",
     "output_type": "stream",
     "text": [
      "+---------+------------------+\n",
      "|   metric|             value|\n",
      "+---------+------------------+\n",
      "|       TP|           22956.0|\n",
      "|       FP|            2774.0|\n",
      "|       TN|          129572.0|\n",
      "|       FN|            9576.0|\n",
      "|Precision|0.8921881072677808|\n",
      "|   Recall|0.7056436739210623|\n",
      "|       F1|0.7880265009783392|\n",
      "+---------+------------------+\n",
      "\n"
     ]
    }
   ],
   "source": [
    "# calculate confusion matrix\n",
    "calculateConfusionMatrix(predictionGbt)"
   ]
  },
  {
   "cell_type": "code",
   "execution_count": 100,
   "metadata": {},
   "outputs": [
    {
     "name": "stdout",
     "output_type": "stream",
     "text": [
      "AUR5 =  0.8423417317816817\n"
     ]
    }
   ],
   "source": [
    "# Recalculate the Area Under ROC\n",
    "evaluator5 = BinaryClassificationEvaluator(labelCol=\"trueLabel\", \n",
    "                                           rawPredictionCol=\"prediction\", \n",
    "                                           metricName=\"areaUnderROC\")\n",
    "\n",
    "aur5 = evaluator5.evaluate(predictionGbt)\n",
    "\n",
    "print( \"AUR5 = \", aur5)"
   ]
  },
  {
   "cell_type": "markdown",
   "metadata": {},
   "source": [
    "- Gradient Boost have increased Precision from 87 to 89\n",
    "- Grandient Boost and Logistic with changed threshold giving similar results."
   ]
  },
  {
   "cell_type": "markdown",
   "metadata": {},
   "source": [
    "Gradient-Boosted Tree achieved the best results, we will try tuning this model with the **ParamGridBuilder** and the **CrossValidator**. Before that we can use explainParams() to print a list of all params and their definitions to understand what params available for tuning."
   ]
  },
  {
   "cell_type": "code",
   "execution_count": 1,
   "metadata": {
    "ExecuteTime": {
     "end_time": "2021-09-28T09:18:33.105543Z",
     "start_time": "2021-09-28T09:18:33.103417Z"
    }
   },
   "outputs": [],
   "source": [
    "from pyspark.ml.tuning import ParamGridBuilder, CrossValidator\n",
    "\n",
    "paramGrid = (ParamGridBuilder()\n",
    "             .addGrid(gbt.maxDepth, [2, 4, 6])\n",
    "             .addGrid(gbt.maxBins, [20, 60])\n",
    "             .addGrid(gbt.maxIter, [10, 20])\n",
    "             .build())\n",
    "\n",
    "cv = CrossValidator(estimator=pipeline, \n",
    "                    estimatorParamMaps=paramGrid, \n",
    "                    evaluator=BinaryClassificationEvaluator(), numFolds=5)\n",
    "\n",
    "\n",
    "# Run cross validations.  This can take about 6 minutes since it is training over 20 trees!\n",
    "cvModel = cv.fit(train)\n",
    "predictions = cvModel.transform(test)\n",
    "evaluator.evaluate(predictions)"
   ]
  },
  {
   "cell_type": "code",
   "execution_count": null,
   "metadata": {},
   "outputs": [],
   "source": []
  }
 ],
 "metadata": {
  "kernelspec": {
   "display_name": "Python 3",
   "language": "python",
   "name": "python3"
  },
  "language_info": {
   "codemirror_mode": {
    "name": "ipython",
    "version": 3
   },
   "file_extension": ".py",
   "mimetype": "text/x-python",
   "name": "python",
   "nbconvert_exporter": "python",
   "pygments_lexer": "ipython3",
   "version": "3.8.5"
  },
  "toc": {
   "base_numbering": 1,
   "nav_menu": {},
   "number_sections": true,
   "sideBar": true,
   "skip_h1_title": false,
   "title_cell": "Table of Contents",
   "title_sidebar": "Contents",
   "toc_cell": false,
   "toc_position": {},
   "toc_section_display": true,
   "toc_window_display": false
  }
 },
 "nbformat": 4,
 "nbformat_minor": 4
}
